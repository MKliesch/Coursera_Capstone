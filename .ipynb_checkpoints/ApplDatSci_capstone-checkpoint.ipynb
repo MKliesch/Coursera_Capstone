{
 "cells": [
  {
   "cell_type": "markdown",
   "metadata": {},
   "source": [
    "# Capstone Project - The Battle of Neighborhoods\n",
    "\n",
    "### Applied Data Science Capstone by IBM/Coursera\n",
    "\n",
    "This Jupyter Notebook contains the capstone project for the *Coursera* [IBM Data Science Specialization](https://www.coursera.org/specializations/ibm-data-science).\n",
    "\n",
    "## Table of contents\n",
    "* [Introduction: Business Problem](#introduction)\n",
    "* [Data](#data)\n",
    "* [Methodology](#methodology)\n",
    "* [Results](#results)\n",
    "* [Discussion](#discussion)\n",
    "* [Conclusion](#conclusion)\n",
    "\n"
   ]
  },
  {
   "cell_type": "markdown",
   "metadata": {},
   "source": [
    "## Introduction/Business Problem <a name=\"introduction\"></a>\n",
    "\n",
    "According to [the statistical office of the City of Zurich](https://www.stadt-zuerich.ch/content/dam/stzh/prd/Deutsch/Statistik/Publikationsdatenbank/jahrbuch/2017/Tabellen/T_JB_2017_10_2.xlsx), there are currently 2200 restaurants listed in the City of Zurich. With around 400'000 inhabitants, this means that there is one restaurant for every 200 citizens, or put differently, this is comparable to having five restaurants in a small village of 1000 inhabitants. Unsurprisingly, it is estimated that around 62% of restaurants in Zurich, and particularly small ones, are in the red ([NZZ](https://www.nzz.ch/wirtschaft/jedes-zweite-restaurant-schreibt-verlust-1.18300150)). In order to be able to cover personnel and rental costs, stakeholders planning to open a restaurant in Zurich will have to make an educated decision on suitable locations that 1) attract a sufficient number of guests and 2) have affordable rental charges.\n",
    "\n",
    "The aim of this project is to characterise the different neighborhoods in Zurich based on whether or not they may be a promising location for a new restaurant to be opened. The following aspects will be taken into account in the analysis:\n",
    "\n",
    "* **The number of already existing restaurants in the vicinity**, which should be as low as possible in order to minimize the number of competitors.\n",
    "* **The number of \"friendly\" businesses in the vicinity**, such as shopping facilities or bars, which increase the number of potential customers in the area.\n",
    "* **The average rental prices in the area**, which should be as low as possible.\n",
    "\n",
    "I will use machine learning to distinguish areas that meet the above-mentioned criteria from those that do not, and will provide a list of the most promising three areas as well as their scoring in terms of the selection criteria for stakeholders to make a final decision.\n"
   ]
  },
  {
   "cell_type": "markdown",
   "metadata": {},
   "source": [
    "## Data <a name=\"data\"></a>\n",
    "\n",
    "The following data sources will be used for this analysis:\n",
    "\n",
    "* There are 12 districts in Zurich (\"Kreis\"). Neighborhoods will be defined as sub-districts, of which there are 34 in Zurich (2-4 per district). The list of neighborhoods is provided by the statistical office of the City of Zurich (see [here](https://www.stadt-zuerich.ch/content/dam/stzh/prd/Deutsch/Statistik/Themen/Bevoelkerung/BEV390T3903_Bevoelkerung-nach-Alter-Stadtkreis-Stadtquartier.xlsx)).\n",
    "* The location data on restaurants in Zurich will be extracted via the [Foursquare.com](www.foursquare.com) API, which, among others, provides information on the type of venues found in places all over the world, including restaurants, shopping facilities and entertainment venues. \n",
    "* Information on the average rental costs for commercial spaces per \"Kreis\" (similar to districts) was obtained from the statistical office of the City of Zurich (see [here](https://www.stadt-zuerich.ch/content/dam/stzh/prd/Deutsch/Statistik/Themen/Bauen-Wohnen/Leerflaechen-nach-Nutzungsart-und-Quartier_Mietpreise-leer-stehender-Buero-Praxisflaechen.xlsx)).\n",
    "* Geospatial information (i.e. coordinates) of each area will be retrieved via reverse geocoding using the [geopy package](https://pypi.org/project/geopy/).\n",
    "\n",
    "\n",
    "\n"
   ]
  },
  {
   "cell_type": "markdown",
   "metadata": {},
   "source": [
    "## Methodology <a name=\"methodology\"></a>"
   ]
  },
  {
   "cell_type": "markdown",
   "metadata": {},
   "source": [
    "## Results <a name=\"results\"></a>"
   ]
  },
  {
   "cell_type": "markdown",
   "metadata": {},
   "source": [
    "## Discussion <a name=\"discussion\"></a>"
   ]
  },
  {
   "cell_type": "markdown",
   "metadata": {},
   "source": [
    "## Conclusion <a name=\"conclusion\"></a>"
   ]
  },
  {
   "cell_type": "code",
   "execution_count": null,
   "metadata": {},
   "outputs": [],
   "source": []
  },
  {
   "cell_type": "code",
   "execution_count": null,
   "metadata": {},
   "outputs": [],
   "source": []
  },
  {
   "cell_type": "markdown",
   "metadata": {},
   "source": []
  },
  {
   "cell_type": "code",
   "execution_count": null,
   "metadata": {},
   "outputs": [],
   "source": []
  }
 ],
 "metadata": {
  "kernelspec": {
   "display_name": "Python 3",
   "language": "python",
   "name": "python3"
  },
  "language_info": {
   "codemirror_mode": {
    "name": "ipython",
    "version": 3
   },
   "file_extension": ".py",
   "mimetype": "text/x-python",
   "name": "python",
   "nbconvert_exporter": "python",
   "pygments_lexer": "ipython3",
   "version": "3.7.6"
  }
 },
 "nbformat": 4,
 "nbformat_minor": 4
}
