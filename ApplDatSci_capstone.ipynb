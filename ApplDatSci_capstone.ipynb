{
 "cells": [
  {
   "cell_type": "markdown",
   "metadata": {},
   "source": [
    "# Capstone Project - The Battle of Neighborhoods\n",
    "\n",
    "### Applied Data Science Capstone by IBM/Coursera\n",
    "\n",
    "This Jupyter Notebook contains the capstone project for the *Coursera* [IBM Data Science Specialization](https://www.coursera.org/specializations/ibm-data-science).\n",
    "\n",
    "## Table of contents\n",
    "* [Introduction: Business Problem](#introduction)\n",
    "* [Data](#data)\n",
    "* [Methodology](#methodology)\n",
    "* [Results](#results)\n",
    "* [Discussion](#discussion)\n",
    "* [Conclusion](#conclusion)\n",
    "\n"
   ]
  },
  {
   "cell_type": "markdown",
   "metadata": {},
   "source": [
    "## Introduction/Business Problem <a name=\"introduction\"></a>\n",
    "\n",
    "According to [the statistical office of the City of Zurich](https://www.stadt-zuerich.ch/content/dam/stzh/prd/Deutsch/Statistik/Publikationsdatenbank/jahrbuch/2017/Tabellen/T_JB_2017_10_2.xlsx), there are currently around 2200 restaurants listed in the City of Zurich. With around 400'000 inhabitants, this means that there is one restaurant for every 200 citizens, or put differently, this is comparable to having five restaurants in a small village of 1000 inhabitants. Unsurprisingly, it is estimated that around 62% of restaurants in Zurich, and particularly small ones, are in the red ([NZZ](https://www.nzz.ch/wirtschaft/jedes-zweite-restaurant-schreibt-verlust-1.18300150)). In order to be able to cover personnel and rental costs, stakeholders planning to open a restaurant in Zurich will have to make an educated decision on suitable locations that 1) attract a sufficient number of guests and 2) have affordable rental charges.\n",
    "\n",
    "The aim of this project is to characterise the different neighborhoods in Zurich based on whether or not they may be a promising location for a new restaurant to be opened. The following aspects will be taken into account in the analysis:\n",
    "\n",
    "* **The number of already existing restaurants in the vicinity**, which should be as low as possible in order to minimize the number of competitors.\n",
    "* **The number of \"friendly\" businesses in the vicinity**, such as shopping facilities or bars, which increase the number of potential customers in the area.\n",
    "* **The average rental prices in the area**, which should be as low as possible.\n",
    "\n",
    "I will use machine learning to distinguish areas that meet the above-mentioned criteria from those that do not, and will provide a list of the most promising three areas as well as their scoring in terms of the selection criteria for stakeholders to make a final decision.\n"
   ]
  },
  {
   "cell_type": "markdown",
   "metadata": {},
   "source": [
    "## Data <a name=\"data\"></a>\n",
    "\n",
    "The following data sources will be used for this analysis:\n",
    "\n",
    "* There are 12 districts in Zurich (\"Kreis\"). Neighborhoods will be defined as sub-districts, of which there are 34 in Zurich (2-4 per district). The list of neighborhoods is provided by the statistical office of the City of Zurich (see [here](https://www.stadt-zuerich.ch/content/dam/stzh/prd/Deutsch/Statistik/Themen/Bevoelkerung/BEV390T3903_Bevoelkerung-nach-Alter-Stadtkreis-Stadtquartier.xlsx)).\n",
    "* The location data on restaurants in Zurich will be extracted via the [Foursquare.com](www.foursquare.com) API, which, among others, provides information on the type of venues found in places all over the world, including restaurants, shopping facilities and entertainment venues. \n",
    "* Information on the average rental costs for commercial spaces per district are provided by the statistical office of the City of Zurich (see [here](https://www.stadt-zuerich.ch/content/dam/stzh/prd/Deutsch/Statistik/Themen/Bauen-Wohnen/Leerflaechen-nach-Nutzungsart-und-Quartier_Mietpreise-leer-stehender-Buero-Praxisflaechen.xlsx)). The numbers refer to Swiss Francs (CHF) per m<sup>2</sup> .\n",
    "* Geospatial information (i.e. coordinates) of each neighborhood will be retrieved via reverse geocoding using the [geopy package](https://pypi.org/project/geopy/).\n",
    "\n",
    "\n",
    "\n"
   ]
  },
  {
   "cell_type": "markdown",
   "metadata": {},
   "source": [
    "### Load district names and average office rent per district\n"
   ]
  },
  {
   "cell_type": "code",
   "execution_count": 118,
   "metadata": {},
   "outputs": [
    {
     "data": {
      "text/html": [
       "<div>\n",
       "<style scoped>\n",
       "    .dataframe tbody tr th:only-of-type {\n",
       "        vertical-align: middle;\n",
       "    }\n",
       "\n",
       "    .dataframe tbody tr th {\n",
       "        vertical-align: top;\n",
       "    }\n",
       "\n",
       "    .dataframe thead th {\n",
       "        text-align: right;\n",
       "    }\n",
       "</style>\n",
       "<table border=\"1\" class=\"dataframe\">\n",
       "  <thead>\n",
       "    <tr style=\"text-align: right;\">\n",
       "      <th></th>\n",
       "      <th>Kreis</th>\n",
       "      <th>Quartier</th>\n",
       "      <th>Miete</th>\n",
       "    </tr>\n",
       "  </thead>\n",
       "  <tbody>\n",
       "    <tr>\n",
       "      <th>0</th>\n",
       "      <td>Kreis 1</td>\n",
       "      <td>Rathaus</td>\n",
       "      <td>540.0</td>\n",
       "    </tr>\n",
       "    <tr>\n",
       "      <th>1</th>\n",
       "      <td>Kreis 1</td>\n",
       "      <td>Hochschulen</td>\n",
       "      <td>540.0</td>\n",
       "    </tr>\n",
       "    <tr>\n",
       "      <th>2</th>\n",
       "      <td>Kreis 1</td>\n",
       "      <td>Lindenhof</td>\n",
       "      <td>540.0</td>\n",
       "    </tr>\n",
       "    <tr>\n",
       "      <th>3</th>\n",
       "      <td>Kreis 1</td>\n",
       "      <td>City</td>\n",
       "      <td>540.0</td>\n",
       "    </tr>\n",
       "    <tr>\n",
       "      <th>4</th>\n",
       "      <td>Kreis 2</td>\n",
       "      <td>Wollishofen</td>\n",
       "      <td>510.0</td>\n",
       "    </tr>\n",
       "  </tbody>\n",
       "</table>\n",
       "</div>"
      ],
      "text/plain": [
       "     Kreis     Quartier  Miete\n",
       "0  Kreis 1      Rathaus  540.0\n",
       "1  Kreis 1  Hochschulen  540.0\n",
       "2  Kreis 1    Lindenhof  540.0\n",
       "3  Kreis 1         City  540.0\n",
       "4  Kreis 2  Wollishofen  510.0"
      ]
     },
     "execution_count": 118,
     "metadata": {},
     "output_type": "execute_result"
    }
   ],
   "source": [
    "# Load required packages\n",
    "import pandas as pd\n",
    "\n",
    "# Load data from file\n",
    "df = pd.read_csv(\"Zurich_df.csv\") # load from file\n",
    "df.head()"
   ]
  },
  {
   "cell_type": "markdown",
   "metadata": {},
   "source": [
    "### Add geospatial data from geopy"
   ]
  },
  {
   "cell_type": "code",
   "execution_count": 119,
   "metadata": {},
   "outputs": [],
   "source": [
    "# Load packages\n",
    "from geopy.geocoders import Nominatim # convert an address into latitude and longitude values\n",
    "from geopy.extra.rate_limiter import RateLimiter\n",
    "\n",
    "# Prepare geolocator\n",
    "geolocator = Nominatim(user_agent=\"zurich_person\") # define user\n",
    "geocode = RateLimiter(geolocator.geocode, min_delay_seconds=1)\n",
    "\n",
    "# Make address into a string for geocode to find\n",
    "df['address'] = df['Quartier'] + \", \" + df['Kreis'] + \", Zürich, Switzerland\"\n",
    "\n",
    "# Locate all places\n",
    "df['location'] = df['address'].apply(geocode)\n",
    "\n",
    "# Extract longitude and latitude\n",
    "df['lng'] = df['location'].apply(lambda x: x.longitude)\n",
    "df['lat'] = df['location'].apply(lambda x: x.latitude)\n",
    "\n",
    "# Clean up\n",
    "df.drop(['address', 'location'], axis = 1, inplace = True)"
   ]
  },
  {
   "cell_type": "code",
   "execution_count": 120,
   "metadata": {},
   "outputs": [
    {
     "data": {
      "text/html": [
       "<div>\n",
       "<style scoped>\n",
       "    .dataframe tbody tr th:only-of-type {\n",
       "        vertical-align: middle;\n",
       "    }\n",
       "\n",
       "    .dataframe tbody tr th {\n",
       "        vertical-align: top;\n",
       "    }\n",
       "\n",
       "    .dataframe thead th {\n",
       "        text-align: right;\n",
       "    }\n",
       "</style>\n",
       "<table border=\"1\" class=\"dataframe\">\n",
       "  <thead>\n",
       "    <tr style=\"text-align: right;\">\n",
       "      <th></th>\n",
       "      <th>Kreis</th>\n",
       "      <th>Quartier</th>\n",
       "      <th>Miete</th>\n",
       "      <th>lng</th>\n",
       "      <th>lat</th>\n",
       "    </tr>\n",
       "  </thead>\n",
       "  <tbody>\n",
       "    <tr>\n",
       "      <th>0</th>\n",
       "      <td>Kreis 1</td>\n",
       "      <td>Rathaus</td>\n",
       "      <td>540.0</td>\n",
       "      <td>8.544311</td>\n",
       "      <td>47.372649</td>\n",
       "    </tr>\n",
       "    <tr>\n",
       "      <th>1</th>\n",
       "      <td>Kreis 1</td>\n",
       "      <td>Hochschulen</td>\n",
       "      <td>540.0</td>\n",
       "      <td>8.548613</td>\n",
       "      <td>47.373846</td>\n",
       "    </tr>\n",
       "    <tr>\n",
       "      <th>2</th>\n",
       "      <td>Kreis 1</td>\n",
       "      <td>Lindenhof</td>\n",
       "      <td>540.0</td>\n",
       "      <td>8.540799</td>\n",
       "      <td>47.372996</td>\n",
       "    </tr>\n",
       "    <tr>\n",
       "      <th>3</th>\n",
       "      <td>Kreis 1</td>\n",
       "      <td>City</td>\n",
       "      <td>540.0</td>\n",
       "      <td>8.535346</td>\n",
       "      <td>47.372943</td>\n",
       "    </tr>\n",
       "    <tr>\n",
       "      <th>4</th>\n",
       "      <td>Kreis 2</td>\n",
       "      <td>Wollishofen</td>\n",
       "      <td>510.0</td>\n",
       "      <td>8.530708</td>\n",
       "      <td>47.342427</td>\n",
       "    </tr>\n",
       "  </tbody>\n",
       "</table>\n",
       "</div>"
      ],
      "text/plain": [
       "     Kreis     Quartier  Miete       lng        lat\n",
       "0  Kreis 1      Rathaus  540.0  8.544311  47.372649\n",
       "1  Kreis 1  Hochschulen  540.0  8.548613  47.373846\n",
       "2  Kreis 1    Lindenhof  540.0  8.540799  47.372996\n",
       "3  Kreis 1         City  540.0  8.535346  47.372943\n",
       "4  Kreis 2  Wollishofen  510.0  8.530708  47.342427"
      ]
     },
     "execution_count": 120,
     "metadata": {},
     "output_type": "execute_result"
    }
   ],
   "source": [
    "# inspect dataframe\n",
    "df.head()"
   ]
  },
  {
   "cell_type": "markdown",
   "metadata": {},
   "source": [
    "### Plot all neighborhoods in Zurich"
   ]
  },
  {
   "cell_type": "code",
   "execution_count": 121,
   "metadata": {},
   "outputs": [
    {
     "name": "stdout",
     "output_type": "stream",
     "text": [
      "Zurich's coordinates are:  8.5393635 47.3781008\n"
     ]
    }
   ],
   "source": [
    "# get center coordinates of Zurich\n",
    "address = 'Zurich Hauptbahnhof, Zurich, Switzerland'\n",
    "location = geolocator.geocode(address)\n",
    "latitude = location.latitude\n",
    "longitude = location.longitude\n",
    "print(\"Zurich's coordinates are: \", longitude, latitude)"
   ]
  },
  {
   "cell_type": "code",
   "execution_count": 123,
   "metadata": {},
   "outputs": [
    {
     "data": {
      "text/html": [
       "<iframe src=\"about:blank\" width=\"800\" height=\"600\"style=\"border:none !important;\" data-html=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 onload=\"this.contentDocument.open();this.contentDocument.write(atob(this.getAttribute('data-html')));this.contentDocument.close();\" \"allowfullscreen\" \"webkitallowfullscreen\" \"mozallowfullscreen\"></iframe>"
      ],
      "text/plain": [
       "<folium.folium.Map at 0x123068c90>"
      ]
     },
     "execution_count": 123,
     "metadata": {},
     "output_type": "execute_result"
    }
   ],
   "source": [
    "# Load package for maps\n",
    "import folium # plotting library\n",
    "\n",
    "# create map\n",
    "f = folium.Figure(width = 800, height = 600)\n",
    "neigh_map = folium.Map(location = [latitude, longitude], zoom_start = 12).add_to(f)\n",
    "\n",
    "for lat, lng, label in zip(df.lat, df.lng, df.Quartier):\n",
    "    folium.CircleMarker(\n",
    "        [lat, lng],\n",
    "        radius = 7,\n",
    "        color = 'royalblue',\n",
    "        popup = label,\n",
    "        fill = True,\n",
    "        fill_color = 'fuchsia',\n",
    "        fill_opacity = 0.3\n",
    "    \n",
    "    ).add_to(neigh_map)\n",
    "\n",
    "neigh_map"
   ]
  },
  {
   "cell_type": "markdown",
   "metadata": {},
   "source": [
    "### Add information on venues"
   ]
  },
  {
   "cell_type": "code",
   "execution_count": 204,
   "metadata": {},
   "outputs": [],
   "source": [
    "# Prepare information for API access\n",
    "import requests # library to handle requests\n",
    "from pandas import json_normalize\n",
    "\n",
    "CLIENT_ID = 'TOPVCHKEI1GQK4T4IEL512EZNEAJT3MWXXUVGI12NL0CMIMI' # Foursquare ID\n",
    "CLIENT_SECRET = '0HRUKCRKEKC3NUEY3LTIJSMT5KOCPJZEGU1ZVZ2Q5B1EZTRK' # Foursquare Secret\n",
    "VERSION = '20200423' # Foursquare API version\n",
    "radius = 500 # meters from center\n",
    "intent = 'browse'\n",
    "\n",
    "# Provide information on where to look for venues\n",
    "districts = df['Kreis']\n",
    "neighbs = df['Quartier']\n",
    "rents = df['Miete']\n",
    "longitudes = df['lng']\n",
    "latitudes = df['lat']"
   ]
  },
  {
   "cell_type": "code",
   "execution_count": 193,
   "metadata": {},
   "outputs": [],
   "source": [
    "# function that extracts the category of the venue (because sometimes it is empty)\n",
    "def get_category_type(item):\n",
    "    categories_list = item['categories']\n",
    "        \n",
    "    if len(categories_list) == 0:\n",
    "        return \"unknown\"\n",
    "    else:\n",
    "        return categories_list[0]['name']"
   ]
  },
  {
   "cell_type": "code",
   "execution_count": 207,
   "metadata": {},
   "outputs": [],
   "source": [
    "# Loop through all districts and add venues for each district\n",
    "venues_list=[]\n",
    "\n",
    "for dist, neigh, rent, lat, lng in zip(districts, neighbs, rents, latitudes, longitudes):\n",
    "    \n",
    "    # create API request URL\n",
    "    url = 'https://api.foursquare.com/v2/venues/search?&client_id={}&client_secret={}&v={}&ll={},{}&radius={}&intent={}'.format(\n",
    "        CLIENT_ID, \n",
    "        CLIENT_SECRET, \n",
    "        VERSION, \n",
    "        lat, \n",
    "        lng, \n",
    "        radius,\n",
    "        intent)\n",
    "    \n",
    "    # make the GET request\n",
    "    results = requests.get(url).json()['response']['venues']\n",
    "    \n",
    "    # retrieve relevant information from results into a list\n",
    "    venues_list.append([(\n",
    "        dist,\n",
    "        neigh,\n",
    "        rent, \n",
    "        lat, \n",
    "        lng, \n",
    "        v['name'], \n",
    "        v['location']['lat'], \n",
    "        v['location']['lng'],  \n",
    "        get_category_type(v)) for v in results])\n",
    "    \n",
    "# convert list to dataframe and change column names\n",
    "nearby_venues = pd.DataFrame([item for venue_list in venues_list for item in venue_list])\n",
    "nearby_venues.columns = ['District',\n",
    "                         'Neighborhood',\n",
    "                         'Neighborhood Rent',\n",
    "                         'Neighborhood Latitude', \n",
    "                         'Neighborhood Longitude', \n",
    "                         'Venue', \n",
    "                         'Venue Latitude', \n",
    "                         'Venue Longitude', \n",
    "                         'Venue Category']"
   ]
  },
  {
   "cell_type": "markdown",
   "metadata": {},
   "source": [
    "### Remove venues with unknown category"
   ]
  },
  {
   "cell_type": "code",
   "execution_count": 214,
   "metadata": {},
   "outputs": [
    {
     "data": {
      "text/html": [
       "<div>\n",
       "<style scoped>\n",
       "    .dataframe tbody tr th:only-of-type {\n",
       "        vertical-align: middle;\n",
       "    }\n",
       "\n",
       "    .dataframe tbody tr th {\n",
       "        vertical-align: top;\n",
       "    }\n",
       "\n",
       "    .dataframe thead th {\n",
       "        text-align: right;\n",
       "    }\n",
       "</style>\n",
       "<table border=\"1\" class=\"dataframe\">\n",
       "  <thead>\n",
       "    <tr style=\"text-align: right;\">\n",
       "      <th></th>\n",
       "      <th>District</th>\n",
       "      <th>Neighborhood</th>\n",
       "      <th>Neighborhood Rent</th>\n",
       "      <th>Neighborhood Latitude</th>\n",
       "      <th>Neighborhood Longitude</th>\n",
       "      <th>Venue</th>\n",
       "      <th>Venue Latitude</th>\n",
       "      <th>Venue Longitude</th>\n",
       "      <th>Venue Category</th>\n",
       "    </tr>\n",
       "  </thead>\n",
       "  <tbody>\n",
       "    <tr>\n",
       "      <th>0</th>\n",
       "      <td>Kreis 1</td>\n",
       "      <td>Rathaus</td>\n",
       "      <td>540.0</td>\n",
       "      <td>47.372649</td>\n",
       "      <td>8.544311</td>\n",
       "      <td>Oliver Twist Pub Zürich</td>\n",
       "      <td>47.372280</td>\n",
       "      <td>8.544270</td>\n",
       "      <td>Sports Bar</td>\n",
       "    </tr>\n",
       "    <tr>\n",
       "      <th>1</th>\n",
       "      <td>Kreis 1</td>\n",
       "      <td>Rathaus</td>\n",
       "      <td>540.0</td>\n",
       "      <td>47.372649</td>\n",
       "      <td>8.544311</td>\n",
       "      <td>Äss-Bar</td>\n",
       "      <td>47.372561</td>\n",
       "      <td>8.543693</td>\n",
       "      <td>Bakery</td>\n",
       "    </tr>\n",
       "    <tr>\n",
       "      <th>2</th>\n",
       "      <td>Kreis 1</td>\n",
       "      <td>Rathaus</td>\n",
       "      <td>540.0</td>\n",
       "      <td>47.372649</td>\n",
       "      <td>8.544311</td>\n",
       "      <td>Restaurant 1001</td>\n",
       "      <td>47.372974</td>\n",
       "      <td>8.543783</td>\n",
       "      <td>Falafel Restaurant</td>\n",
       "    </tr>\n",
       "    <tr>\n",
       "      <th>3</th>\n",
       "      <td>Kreis 1</td>\n",
       "      <td>Rathaus</td>\n",
       "      <td>540.0</td>\n",
       "      <td>47.372649</td>\n",
       "      <td>8.544311</td>\n",
       "      <td>Raclette Factory</td>\n",
       "      <td>47.372376</td>\n",
       "      <td>8.543813</td>\n",
       "      <td>Swiss Restaurant</td>\n",
       "    </tr>\n",
       "    <tr>\n",
       "      <th>4</th>\n",
       "      <td>Kreis 1</td>\n",
       "      <td>Rathaus</td>\n",
       "      <td>540.0</td>\n",
       "      <td>47.372649</td>\n",
       "      <td>8.544311</td>\n",
       "      <td>Zürich</td>\n",
       "      <td>47.373158</td>\n",
       "      <td>8.544117</td>\n",
       "      <td>Motel</td>\n",
       "    </tr>\n",
       "  </tbody>\n",
       "</table>\n",
       "</div>"
      ],
      "text/plain": [
       "  District Neighborhood  Neighborhood Rent  Neighborhood Latitude  \\\n",
       "0  Kreis 1      Rathaus              540.0              47.372649   \n",
       "1  Kreis 1      Rathaus              540.0              47.372649   \n",
       "2  Kreis 1      Rathaus              540.0              47.372649   \n",
       "3  Kreis 1      Rathaus              540.0              47.372649   \n",
       "4  Kreis 1      Rathaus              540.0              47.372649   \n",
       "\n",
       "   Neighborhood Longitude                    Venue  Venue Latitude  \\\n",
       "0                8.544311  Oliver Twist Pub Zürich       47.372280   \n",
       "1                8.544311                  Äss-Bar       47.372561   \n",
       "2                8.544311          Restaurant 1001       47.372974   \n",
       "3                8.544311         Raclette Factory       47.372376   \n",
       "4                8.544311                   Zürich       47.373158   \n",
       "\n",
       "   Venue Longitude      Venue Category  \n",
       "0         8.544270          Sports Bar  \n",
       "1         8.543693              Bakery  \n",
       "2         8.543783  Falafel Restaurant  \n",
       "3         8.543813    Swiss Restaurant  \n",
       "4         8.544117               Motel  "
      ]
     },
     "execution_count": 214,
     "metadata": {},
     "output_type": "execute_result"
    }
   ],
   "source": [
    "final_df = nearby_venues[nearby_venues['Venue Category'] != 'unknown']\n",
    "final_df.head()"
   ]
  },
  {
   "cell_type": "markdown",
   "metadata": {},
   "source": [
    "This is the final dataframe. Let's go!"
   ]
  },
  {
   "cell_type": "markdown",
   "metadata": {},
   "source": [
    "## Methodology <a name=\"methodology\"></a>"
   ]
  },
  {
   "cell_type": "markdown",
   "metadata": {},
   "source": [
    "## Results <a name=\"results\"></a>"
   ]
  },
  {
   "cell_type": "markdown",
   "metadata": {},
   "source": [
    "## Discussion <a name=\"discussion\"></a>"
   ]
  },
  {
   "cell_type": "markdown",
   "metadata": {},
   "source": [
    "## Conclusion <a name=\"conclusion\"></a>"
   ]
  },
  {
   "cell_type": "code",
   "execution_count": null,
   "metadata": {},
   "outputs": [],
   "source": []
  },
  {
   "cell_type": "code",
   "execution_count": null,
   "metadata": {},
   "outputs": [],
   "source": []
  },
  {
   "cell_type": "markdown",
   "metadata": {},
   "source": []
  },
  {
   "cell_type": "code",
   "execution_count": null,
   "metadata": {},
   "outputs": [],
   "source": []
  }
 ],
 "metadata": {
  "kernelspec": {
   "display_name": "Python 3",
   "language": "python",
   "name": "python3"
  },
  "language_info": {
   "codemirror_mode": {
    "name": "ipython",
    "version": 3
   },
   "file_extension": ".py",
   "mimetype": "text/x-python",
   "name": "python",
   "nbconvert_exporter": "python",
   "pygments_lexer": "ipython3",
   "version": "3.7.6"
  }
 },
 "nbformat": 4,
 "nbformat_minor": 4
}
